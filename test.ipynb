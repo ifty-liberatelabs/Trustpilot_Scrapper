{
 "cells": [
  {
   "cell_type": "code",
   "execution_count": 9,
   "id": "cff13460",
   "metadata": {},
   "outputs": [
    {
     "name": "stderr",
     "output_type": "stream",
     "text": [
      "INFO:__main__:Found total review pages from initial load: 59\n"
     ]
    }
   ],
   "source": [
    "import requests\n",
    "from bs4 import BeautifulSoup\n",
    "import json\n",
    "import logging\n",
    "\n",
    "logging.basicConfig(level=logging.INFO)\n",
    "logger = logging.getLogger(__name__)\n",
    "\n",
    "session = requests.Session()\n",
    "url = \"https://www.trustpilot.com/review/www.mexipass.com\"\n",
    "\n",
    "req = session.get(url)\n",
    "soup = BeautifulSoup(req.text, \"lxml\")\n",
    "script_tag = soup.find(\"script\", id=\"__NEXT_DATA__\", type=\"application/json\")\n",
    "raw_json   = json.loads(script_tag.string)\n",
    "page_props = raw_json[\"props\"][\"pageProps\"]\n",
    "filters_data = page_props.get(\"filters\", {}).get(\"pagination\", {})\n",
    "total_review_pages = filters_data.get(\"totalPages\")\n",
    "logger.info(f\"Found total review pages from initial load: {total_review_pages}\")\n"
   ]
  },
  {
   "cell_type": "code",
   "execution_count": 10,
   "id": "c8b2fa07",
   "metadata": {},
   "outputs": [
    {
     "name": "stderr",
     "output_type": "stream",
     "text": [
      "INFO:__main__:Found total review pages from initial load: 59\n"
     ]
    }
   ],
   "source": [
    "import requests\n",
    "from bs4 import BeautifulSoup\n",
    "import json\n",
    "import logging\n",
    "\n",
    "logging.basicConfig(level=logging.INFO)\n",
    "logger = logging.getLogger(__name__)\n",
    "\n",
    "session = requests.Session()\n",
    "url = \"https://www.trustpilot.com/review/www.mexipass.com?languages=all&page=1\"\n",
    "\n",
    "req = session.get(url)\n",
    "soup = BeautifulSoup(req.text, \"lxml\")\n",
    "script_tag = soup.find(\"script\", id=\"__NEXT_DATA__\", type=\"application/json\")\n",
    "raw_json   = json.loads(script_tag.string)\n",
    "page_props = raw_json[\"props\"][\"pageProps\"]\n",
    "filters_data = page_props.get(\"filters\", {}).get(\"pagination\", {})\n",
    "total_review_pages = filters_data.get(\"totalPages\")\n",
    "logger.info(f\"Found total review pages from initial load: {total_review_pages}\")\n"
   ]
  },
  {
   "cell_type": "code",
   "execution_count": 12,
   "id": "1c41b980",
   "metadata": {},
   "outputs": [
    {
     "name": "stderr",
     "output_type": "stream",
     "text": [
      "INFO:__main__:Found total review pages from initial load: 59\n"
     ]
    }
   ],
   "source": [
    "import requests\n",
    "from bs4 import BeautifulSoup\n",
    "import json\n",
    "import logging\n",
    "\n",
    "logging.basicConfig(level=logging.INFO)\n",
    "logger = logging.getLogger(__name__)\n",
    "\n",
    "session = requests.Session()\n",
    "url = \"https://www.trustpilot.com/review/www.mexipass.com?page=1\"\n",
    "\n",
    "req = session.get(url)\n",
    "soup = BeautifulSoup(req.text, \"lxml\")\n",
    "script_tag = soup.find(\"script\", id=\"__NEXT_DATA__\", type=\"application/json\")\n",
    "raw_json   = json.loads(script_tag.string)\n",
    "page_props = raw_json[\"props\"][\"pageProps\"]\n",
    "filters_data = page_props.get(\"filters\", {}).get(\"pagination\", {})\n",
    "total_review_pages = filters_data.get(\"totalPages\")\n",
    "logger.info(f\"Found total review pages from initial load: {total_review_pages}\")\n"
   ]
  },
  {
   "cell_type": "code",
   "execution_count": 11,
   "id": "707bf327",
   "metadata": {},
   "outputs": [
    {
     "name": "stderr",
     "output_type": "stream",
     "text": [
      "INFO:__main__:Found total review pages from initial load: 61\n"
     ]
    }
   ],
   "source": [
    "import requests\n",
    "from bs4 import BeautifulSoup\n",
    "import json\n",
    "import logging\n",
    "\n",
    "logging.basicConfig(level=logging.INFO)\n",
    "logger = logging.getLogger(__name__)\n",
    "\n",
    "session = requests.Session()\n",
    "url = \"https://www.trustpilot.com/review/www.mexipass.com?languages=all&page=2\"\n",
    "\n",
    "req = session.get(url)\n",
    "soup = BeautifulSoup(req.text, \"lxml\")\n",
    "script_tag = soup.find(\"script\", id=\"__NEXT_DATA__\", type=\"application/json\")\n",
    "raw_json   = json.loads(script_tag.string)\n",
    "page_props = raw_json[\"props\"][\"pageProps\"]\n",
    "filters_data = page_props.get(\"filters\", {}).get(\"pagination\", {})\n",
    "total_review_pages = filters_data.get(\"totalPages\")\n",
    "logger.info(f\"Found total review pages from initial load: {total_review_pages}\")\n"
   ]
  }
 ],
 "metadata": {
  "kernelspec": {
   "display_name": "base",
   "language": "python",
   "name": "python3"
  },
  "language_info": {
   "codemirror_mode": {
    "name": "ipython",
    "version": 3
   },
   "file_extension": ".py",
   "mimetype": "text/x-python",
   "name": "python",
   "nbconvert_exporter": "python",
   "pygments_lexer": "ipython3",
   "version": "3.12.2"
  }
 },
 "nbformat": 4,
 "nbformat_minor": 5
}
